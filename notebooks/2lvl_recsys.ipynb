{
 "cells": [
  {
   "cell_type": "code",
   "execution_count": 2,
   "metadata": {},
   "outputs": [
    {
     "name": "stdout",
     "output_type": "stream",
     "text": [
      "working in jupyter\n"
     ]
    }
   ],
   "source": [
    "import pandas as pd\n",
    "pd.set_option('display.max_columns', None)\n",
    "\n",
    "import numpy as np\n",
    "import matplotlib.pyplot as plt\n",
    "%matplotlib inline\n",
    "\n",
    "# Для работы с матрицами\n",
    "from scipy.sparse import csr_matrix\n",
    "\n",
    "# Матричная факторизация\n",
    "from implicit import als\n",
    "\n",
    "# Модель второго уровня\n",
    "from lightgbm import LGBMClassifier\n",
    "import catboost as cb\n",
    "\n",
    "import sys, os\n",
    "\n",
    "def current_execute_directory():\n",
    "    try:\n",
    "        return os.path.dirname(os.path.abspath(__file__))\n",
    "    except NameError:\n",
    "        print('working in jupyter')\n",
    "        return globals()['_dh'][0]\n",
    "\n",
    "current_directory = current_execute_directory()\n",
    "# Написанные нами функции\n",
    "additional_functions_path = os.path.join(current_directory, os.pardir)\n",
    "sys.path.insert(0, additional_functions_path)\n",
    "\n",
    "from src.metrics import precision_at_k, recall_at_k\n",
    "from src.utils import prefilter_items, process_user_item_features\n",
    "from src.recommenders import MainRecommender\n",
    "\n",
    "import pickle\n",
    "MODELS_PATH = os.path.join(current_directory, os.pardir, 'models')"
   ]
  },
  {
   "cell_type": "markdown",
   "metadata": {},
   "source": [
    "\n",
    "## Read data"
   ]
  },
  {
   "cell_type": "code",
   "execution_count": 3,
   "metadata": {},
   "outputs": [],
   "source": [
    "DATA_PATH = '../data'\n",
    "data = pd.read_csv(os.path.join(DATA_PATH,'retail_train_sample.csv'))\n",
    "item_features = pd.read_csv(os.path.join(DATA_PATH,'product.csv'))\n",
    "user_features = pd.read_csv(os.path.join(DATA_PATH,'hh_demographic.csv'))"
   ]
  },
  {
   "cell_type": "code",
   "execution_count": 4,
   "metadata": {},
   "outputs": [],
   "source": [
    "ITEM_COL = 'item_id'\n",
    "USER_COL = 'user_id'\n",
    "ACTUAL_COL = 'actual'\n",
    "\n",
    "# N = Neighbors\n",
    "N_PREDICT = 50 "
   ]
  },
  {
   "cell_type": "code",
   "execution_count": 5,
   "metadata": {},
   "outputs": [],
   "source": [
    "# column processing\n",
    "item_features.columns = [col.lower() for col in item_features.columns]\n",
    "user_features.columns = [col.lower() for col in user_features.columns]\n",
    "\n",
    "item_features.rename(columns={'product_id': ITEM_COL}, inplace=True)\n",
    "user_features.rename(columns={'household_key': USER_COL }, inplace=True)\n",
    "\n",
    "data = data.drop('Unnamed: 0', axis=1, errors='ignore')"
   ]
  },
  {
   "cell_type": "code",
   "execution_count": 6,
   "metadata": {},
   "outputs": [
    {
     "name": "stdout",
     "output_type": "stream",
     "text": [
      "data_train_matcher: 1-79 weeks\n",
      "data_val_matcher: 80-87 weeks\n",
      "data_train_ranker: 80-87 weeks\n",
      "data_val_ranker: 88-91 weeks\n"
     ]
    }
   ],
   "source": [
    "VAL_MATCHER_WEEKS = 8\n",
    "VAL_RANKER_WEEKS = 3\n",
    "\n",
    "data_train_matcher = data[data['week_no'] < data['week_no'].max() - (VAL_MATCHER_WEEKS + VAL_RANKER_WEEKS)] # давние покупки\n",
    "data_val_matcher = data[(data['week_no'] >= data['week_no'].max() - (VAL_MATCHER_WEEKS + VAL_RANKER_WEEKS)) &\n",
    "                      (data['week_no'] < data['week_no'].max() - (VAL_RANKER_WEEKS))]\n",
    "\n",
    "data_train_ranker = data_val_matcher.copy()  # Для наглядности. Далее мы добавим изменения, и они будут отличаться\n",
    "data_val_ranker = data[data['week_no'] >= data['week_no'].max() - VAL_RANKER_WEEKS]\n",
    "\n",
    "# ----\n",
    "print('data_train_matcher: {}-{} weeks'.format(data_train_matcher.week_no.min(), data_train_matcher.week_no.max()))\n",
    "print('data_val_matcher: {}-{} weeks'.format(data_val_matcher.week_no.min(), data_val_matcher.week_no.max()))\n",
    "\n",
    "print('data_train_ranker: {}-{} weeks'.format(data_train_ranker.week_no.min(), data_train_ranker.week_no.max()))\n",
    "print('data_val_ranker: {}-{} weeks'.format(data_val_ranker.week_no.min(), data_val_ranker.week_no.max()))"
   ]
  },
  {
   "cell_type": "code",
   "execution_count": 7,
   "metadata": {},
   "outputs": [],
   "source": [
    "# сделаем объединенный сет данных для первого уровня (матчинга)\n",
    "df_join_train_matcher = pd.concat([data_train_matcher, data_val_matcher])"
   ]
  },
  {
   "cell_type": "markdown",
   "metadata": {},
   "source": [
    "Here is how the fact table looks like:"
   ]
  },
  {
   "cell_type": "code",
   "execution_count": 8,
   "metadata": {},
   "outputs": [
    {
     "data": {
      "text/html": [
       "<div>\n",
       "<style scoped>\n",
       "    .dataframe tbody tr th:only-of-type {\n",
       "        vertical-align: middle;\n",
       "    }\n",
       "\n",
       "    .dataframe tbody tr th {\n",
       "        vertical-align: top;\n",
       "    }\n",
       "\n",
       "    .dataframe thead th {\n",
       "        text-align: right;\n",
       "    }\n",
       "</style>\n",
       "<table border=\"1\" class=\"dataframe\">\n",
       "  <thead>\n",
       "    <tr style=\"text-align: right;\">\n",
       "      <th></th>\n",
       "      <th>user_id</th>\n",
       "      <th>basket_id</th>\n",
       "      <th>day</th>\n",
       "      <th>item_id</th>\n",
       "      <th>quantity</th>\n",
       "      <th>sales_value</th>\n",
       "      <th>store_id</th>\n",
       "      <th>retail_disc</th>\n",
       "      <th>trans_time</th>\n",
       "      <th>week_no</th>\n",
       "      <th>coupon_disc</th>\n",
       "      <th>coupon_match_disc</th>\n",
       "    </tr>\n",
       "  </thead>\n",
       "  <tbody>\n",
       "    <tr>\n",
       "      <th>0</th>\n",
       "      <td>1078</td>\n",
       "      <td>35573861879</td>\n",
       "      <td>524</td>\n",
       "      <td>1082185</td>\n",
       "      <td>1</td>\n",
       "      <td>0.56</td>\n",
       "      <td>375</td>\n",
       "      <td>0.0</td>\n",
       "      <td>1440</td>\n",
       "      <td>76</td>\n",
       "      <td>0.0</td>\n",
       "      <td>0.0</td>\n",
       "    </tr>\n",
       "    <tr>\n",
       "      <th>1</th>\n",
       "      <td>324</td>\n",
       "      <td>29170411703</td>\n",
       "      <td>165</td>\n",
       "      <td>7168774</td>\n",
       "      <td>2</td>\n",
       "      <td>6.98</td>\n",
       "      <td>367</td>\n",
       "      <td>0.0</td>\n",
       "      <td>1115</td>\n",
       "      <td>24</td>\n",
       "      <td>0.0</td>\n",
       "      <td>0.0</td>\n",
       "    </tr>\n",
       "    <tr>\n",
       "      <th>2</th>\n",
       "      <td>1982</td>\n",
       "      <td>32957769022</td>\n",
       "      <td>404</td>\n",
       "      <td>12811490</td>\n",
       "      <td>1</td>\n",
       "      <td>3.99</td>\n",
       "      <td>319</td>\n",
       "      <td>0.0</td>\n",
       "      <td>2101</td>\n",
       "      <td>58</td>\n",
       "      <td>0.0</td>\n",
       "      <td>0.0</td>\n",
       "    </tr>\n",
       "    <tr>\n",
       "      <th>3</th>\n",
       "      <td>1023</td>\n",
       "      <td>34573871336</td>\n",
       "      <td>495</td>\n",
       "      <td>920025</td>\n",
       "      <td>1</td>\n",
       "      <td>5.99</td>\n",
       "      <td>299</td>\n",
       "      <td>0.0</td>\n",
       "      <td>1643</td>\n",
       "      <td>71</td>\n",
       "      <td>0.0</td>\n",
       "      <td>0.0</td>\n",
       "    </tr>\n",
       "    <tr>\n",
       "      <th>4</th>\n",
       "      <td>695</td>\n",
       "      <td>32672141822</td>\n",
       "      <td>383</td>\n",
       "      <td>941357</td>\n",
       "      <td>1</td>\n",
       "      <td>3.19</td>\n",
       "      <td>396</td>\n",
       "      <td>0.0</td>\n",
       "      <td>1743</td>\n",
       "      <td>55</td>\n",
       "      <td>0.0</td>\n",
       "      <td>0.0</td>\n",
       "    </tr>\n",
       "  </tbody>\n",
       "</table>\n",
       "</div>"
      ],
      "text/plain": [
       "   user_id    basket_id  day   item_id  quantity  sales_value  store_id  \\\n",
       "0     1078  35573861879  524   1082185         1         0.56       375   \n",
       "1      324  29170411703  165   7168774         2         6.98       367   \n",
       "2     1982  32957769022  404  12811490         1         3.99       319   \n",
       "3     1023  34573871336  495    920025         1         5.99       299   \n",
       "4      695  32672141822  383    941357         1         3.19       396   \n",
       "\n",
       "   retail_disc  trans_time  week_no  coupon_disc  coupon_match_disc  \n",
       "0          0.0        1440       76          0.0                0.0  \n",
       "1          0.0        1115       24          0.0                0.0  \n",
       "2          0.0        2101       58          0.0                0.0  \n",
       "3          0.0        1643       71          0.0                0.0  \n",
       "4          0.0        1743       55          0.0                0.0  "
      ]
     },
     "execution_count": 8,
     "metadata": {},
     "output_type": "execute_result"
    }
   ],
   "source": [
    "data.head()"
   ]
  },
  {
   "cell_type": "markdown",
   "metadata": {},
   "source": [
    "And here are the descriptive datasets:"
   ]
  },
  {
   "cell_type": "code",
   "execution_count": 9,
   "metadata": {},
   "outputs": [
    {
     "data": {
      "text/html": [
       "<div>\n",
       "<style scoped>\n",
       "    .dataframe tbody tr th:only-of-type {\n",
       "        vertical-align: middle;\n",
       "    }\n",
       "\n",
       "    .dataframe tbody tr th {\n",
       "        vertical-align: top;\n",
       "    }\n",
       "\n",
       "    .dataframe thead th {\n",
       "        text-align: right;\n",
       "    }\n",
       "</style>\n",
       "<table border=\"1\" class=\"dataframe\">\n",
       "  <thead>\n",
       "    <tr style=\"text-align: right;\">\n",
       "      <th></th>\n",
       "      <th>item_id</th>\n",
       "      <th>manufacturer</th>\n",
       "      <th>department</th>\n",
       "      <th>brand</th>\n",
       "      <th>commodity_desc</th>\n",
       "      <th>sub_commodity_desc</th>\n",
       "      <th>curr_size_of_product</th>\n",
       "    </tr>\n",
       "  </thead>\n",
       "  <tbody>\n",
       "    <tr>\n",
       "      <th>0</th>\n",
       "      <td>25671</td>\n",
       "      <td>2</td>\n",
       "      <td>GROCERY</td>\n",
       "      <td>National</td>\n",
       "      <td>FRZN ICE</td>\n",
       "      <td>ICE - CRUSHED/CUBED</td>\n",
       "      <td>22 LB</td>\n",
       "    </tr>\n",
       "    <tr>\n",
       "      <th>1</th>\n",
       "      <td>26081</td>\n",
       "      <td>2</td>\n",
       "      <td>MISC. TRANS.</td>\n",
       "      <td>National</td>\n",
       "      <td>NO COMMODITY DESCRIPTION</td>\n",
       "      <td>NO SUBCOMMODITY DESCRIPTION</td>\n",
       "      <td></td>\n",
       "    </tr>\n",
       "    <tr>\n",
       "      <th>2</th>\n",
       "      <td>26093</td>\n",
       "      <td>69</td>\n",
       "      <td>PASTRY</td>\n",
       "      <td>Private</td>\n",
       "      <td>BREAD</td>\n",
       "      <td>BREAD:ITALIAN/FRENCH</td>\n",
       "      <td></td>\n",
       "    </tr>\n",
       "    <tr>\n",
       "      <th>3</th>\n",
       "      <td>26190</td>\n",
       "      <td>69</td>\n",
       "      <td>GROCERY</td>\n",
       "      <td>Private</td>\n",
       "      <td>FRUIT - SHELF STABLE</td>\n",
       "      <td>APPLE SAUCE</td>\n",
       "      <td>50 OZ</td>\n",
       "    </tr>\n",
       "    <tr>\n",
       "      <th>4</th>\n",
       "      <td>26355</td>\n",
       "      <td>69</td>\n",
       "      <td>GROCERY</td>\n",
       "      <td>Private</td>\n",
       "      <td>COOKIES/CONES</td>\n",
       "      <td>SPECIALTY COOKIES</td>\n",
       "      <td>14 OZ</td>\n",
       "    </tr>\n",
       "  </tbody>\n",
       "</table>\n",
       "</div>"
      ],
      "text/plain": [
       "   item_id  manufacturer    department     brand            commodity_desc  \\\n",
       "0    25671             2       GROCERY  National                  FRZN ICE   \n",
       "1    26081             2  MISC. TRANS.  National  NO COMMODITY DESCRIPTION   \n",
       "2    26093            69        PASTRY   Private                     BREAD   \n",
       "3    26190            69       GROCERY   Private      FRUIT - SHELF STABLE   \n",
       "4    26355            69       GROCERY   Private             COOKIES/CONES   \n",
       "\n",
       "            sub_commodity_desc curr_size_of_product  \n",
       "0          ICE - CRUSHED/CUBED                22 LB  \n",
       "1  NO SUBCOMMODITY DESCRIPTION                       \n",
       "2         BREAD:ITALIAN/FRENCH                       \n",
       "3                  APPLE SAUCE                50 OZ  \n",
       "4            SPECIALTY COOKIES                14 OZ  "
      ]
     },
     "execution_count": 9,
     "metadata": {},
     "output_type": "execute_result"
    }
   ],
   "source": [
    "item_features.head()"
   ]
  },
  {
   "cell_type": "code",
   "execution_count": 10,
   "metadata": {},
   "outputs": [
    {
     "data": {
      "text/html": [
       "<div>\n",
       "<style scoped>\n",
       "    .dataframe tbody tr th:only-of-type {\n",
       "        vertical-align: middle;\n",
       "    }\n",
       "\n",
       "    .dataframe tbody tr th {\n",
       "        vertical-align: top;\n",
       "    }\n",
       "\n",
       "    .dataframe thead th {\n",
       "        text-align: right;\n",
       "    }\n",
       "</style>\n",
       "<table border=\"1\" class=\"dataframe\">\n",
       "  <thead>\n",
       "    <tr style=\"text-align: right;\">\n",
       "      <th></th>\n",
       "      <th>age_desc</th>\n",
       "      <th>marital_status_code</th>\n",
       "      <th>income_desc</th>\n",
       "      <th>homeowner_desc</th>\n",
       "      <th>hh_comp_desc</th>\n",
       "      <th>household_size_desc</th>\n",
       "      <th>kid_category_desc</th>\n",
       "      <th>user_id</th>\n",
       "    </tr>\n",
       "  </thead>\n",
       "  <tbody>\n",
       "    <tr>\n",
       "      <th>0</th>\n",
       "      <td>65+</td>\n",
       "      <td>A</td>\n",
       "      <td>35-49K</td>\n",
       "      <td>Homeowner</td>\n",
       "      <td>2 Adults No Kids</td>\n",
       "      <td>2</td>\n",
       "      <td>None/Unknown</td>\n",
       "      <td>1</td>\n",
       "    </tr>\n",
       "    <tr>\n",
       "      <th>1</th>\n",
       "      <td>45-54</td>\n",
       "      <td>A</td>\n",
       "      <td>50-74K</td>\n",
       "      <td>Homeowner</td>\n",
       "      <td>2 Adults No Kids</td>\n",
       "      <td>2</td>\n",
       "      <td>None/Unknown</td>\n",
       "      <td>7</td>\n",
       "    </tr>\n",
       "    <tr>\n",
       "      <th>2</th>\n",
       "      <td>25-34</td>\n",
       "      <td>U</td>\n",
       "      <td>25-34K</td>\n",
       "      <td>Unknown</td>\n",
       "      <td>2 Adults Kids</td>\n",
       "      <td>3</td>\n",
       "      <td>1</td>\n",
       "      <td>8</td>\n",
       "    </tr>\n",
       "    <tr>\n",
       "      <th>3</th>\n",
       "      <td>25-34</td>\n",
       "      <td>U</td>\n",
       "      <td>75-99K</td>\n",
       "      <td>Homeowner</td>\n",
       "      <td>2 Adults Kids</td>\n",
       "      <td>4</td>\n",
       "      <td>2</td>\n",
       "      <td>13</td>\n",
       "    </tr>\n",
       "    <tr>\n",
       "      <th>4</th>\n",
       "      <td>45-54</td>\n",
       "      <td>B</td>\n",
       "      <td>50-74K</td>\n",
       "      <td>Homeowner</td>\n",
       "      <td>Single Female</td>\n",
       "      <td>1</td>\n",
       "      <td>None/Unknown</td>\n",
       "      <td>16</td>\n",
       "    </tr>\n",
       "  </tbody>\n",
       "</table>\n",
       "</div>"
      ],
      "text/plain": [
       "  age_desc marital_status_code income_desc homeowner_desc      hh_comp_desc  \\\n",
       "0      65+                   A      35-49K      Homeowner  2 Adults No Kids   \n",
       "1    45-54                   A      50-74K      Homeowner  2 Adults No Kids   \n",
       "2    25-34                   U      25-34K        Unknown     2 Adults Kids   \n",
       "3    25-34                   U      75-99K      Homeowner     2 Adults Kids   \n",
       "4    45-54                   B      50-74K      Homeowner     Single Female   \n",
       "\n",
       "  household_size_desc kid_category_desc  user_id  \n",
       "0                   2      None/Unknown        1  \n",
       "1                   2      None/Unknown        7  \n",
       "2                   3                 1        8  \n",
       "3                   4                 2       13  \n",
       "4                   1      None/Unknown       16  "
      ]
     },
     "execution_count": 10,
     "metadata": {},
     "output_type": "execute_result"
    }
   ],
   "source": [
    "user_features.head()"
   ]
  },
  {
   "cell_type": "code",
   "execution_count": 11,
   "metadata": {},
   "outputs": [
    {
     "name": "stdout",
     "output_type": "stream",
     "text": [
      "== Starting prefilter info ==\n",
      "shape: (194240, 12)\n",
      "# users: 2481\n",
      "# items: 32931\n",
      "Sparsity: 0.238%\n",
      "== Ending prefilter info ==\n",
      "shape: (57309, 13)\n",
      "# users: 2359\n",
      "# items: 5000\n",
      "Sparsity: 0.486%\n",
      "new_columns: {'price'}\n"
     ]
    }
   ],
   "source": [
    "data_train_matcher = prefilter_items(data=data_train_matcher\n",
    "                                    , item_features=item_features\n",
    "                                    , take_n_popular=5000)"
   ]
  },
  {
   "cell_type": "code",
   "execution_count": 12,
   "metadata": {},
   "outputs": [],
   "source": [
    "def print_stats_data(data, name):\n",
    "    print(name)\n",
    "    print(f'shape: {data.shape}\\titems: {data[ITEM_COL].nunique()}\\tusers: {data[USER_COL].nunique()}')"
   ]
  },
  {
   "cell_type": "code",
   "execution_count": 13,
   "metadata": {},
   "outputs": [
    {
     "name": "stdout",
     "output_type": "stream",
     "text": [
      "train_matcher\n",
      "shape: (57309, 13)\titems: 5000\tusers: 2359\n",
      "val_matcher\n",
      "shape: (21856, 12)\titems: 10118\tusers: 1949\n",
      "train_ranker\n",
      "shape: (21856, 12)\titems: 10118\tusers: 1949\n",
      "val_ranker\n",
      "shape: (11097, 12)\titems: 6378\tusers: 1674\n"
     ]
    }
   ],
   "source": [
    "# make cold-start warm\n",
    "common_users = data_train_matcher.user_id.values\n",
    "\n",
    "\n",
    "data_val_matcher = data_val_matcher.loc[data_val_matcher.user_id.isin(common_users)]\n",
    "data_train_ranker = data_train_ranker.loc[data_train_ranker.user_id.isin(common_users)]\n",
    "data_val_ranker = data_val_ranker.loc[data_val_ranker.user_id.isin(common_users)]\n",
    "\n",
    "print_stats_data(data_train_matcher,'train_matcher')\n",
    "\n",
    "print_stats_data(data_val_matcher,'val_matcher')\n",
    "print_stats_data(data_train_ranker,'train_ranker')\n",
    "print_stats_data(data_val_ranker,'val_ranker')"
   ]
  },
  {
   "cell_type": "code",
   "execution_count": 14,
   "metadata": {},
   "outputs": [
    {
     "data": {
      "text/html": [
       "<div>\n",
       "<style scoped>\n",
       "    .dataframe tbody tr th:only-of-type {\n",
       "        vertical-align: middle;\n",
       "    }\n",
       "\n",
       "    .dataframe tbody tr th {\n",
       "        vertical-align: top;\n",
       "    }\n",
       "\n",
       "    .dataframe thead th {\n",
       "        text-align: right;\n",
       "    }\n",
       "</style>\n",
       "<table border=\"1\" class=\"dataframe\">\n",
       "  <thead>\n",
       "    <tr style=\"text-align: right;\">\n",
       "      <th></th>\n",
       "      <th>user_id</th>\n",
       "      <th>actual</th>\n",
       "    </tr>\n",
       "  </thead>\n",
       "  <tbody>\n",
       "    <tr>\n",
       "      <th>0</th>\n",
       "      <td>1</td>\n",
       "      <td>[1075074, 1098248, 1069103, 1017299, 1077430, ...</td>\n",
       "    </tr>\n",
       "    <tr>\n",
       "      <th>1</th>\n",
       "      <td>2</td>\n",
       "      <td>[830127, 7442008, 899624, 944568]</td>\n",
       "    </tr>\n",
       "    <tr>\n",
       "      <th>2</th>\n",
       "      <td>3</td>\n",
       "      <td>[946839]</td>\n",
       "    </tr>\n",
       "    <tr>\n",
       "      <th>3</th>\n",
       "      <td>4</td>\n",
       "      <td>[990797, 13115703]</td>\n",
       "    </tr>\n",
       "    <tr>\n",
       "      <th>4</th>\n",
       "      <td>5</td>\n",
       "      <td>[13986893, 1065017, 13212967]</td>\n",
       "    </tr>\n",
       "  </tbody>\n",
       "</table>\n",
       "</div>"
      ],
      "text/plain": [
       "   user_id                                             actual\n",
       "0        1  [1075074, 1098248, 1069103, 1017299, 1077430, ...\n",
       "1        2                  [830127, 7442008, 899624, 944568]\n",
       "2        3                                           [946839]\n",
       "3        4                                 [990797, 13115703]\n",
       "4        5                      [13986893, 1065017, 13212967]"
      ]
     },
     "execution_count": 14,
     "metadata": {},
     "output_type": "execute_result"
    }
   ],
   "source": [
    "result_matcher = data_val_matcher.groupby(USER_COL)[ITEM_COL].unique().reset_index()\n",
    "result_matcher.columns = [USER_COL, ACTUAL_COL]\n",
    "\n",
    "result_matcher.head()"
   ]
  },
  {
   "cell_type": "code",
   "execution_count": 16,
   "metadata": {},
   "outputs": [
    {
     "data": {
      "application/vnd.jupyter.widget-view+json": {
       "model_id": "001d08ae22e44994bfb1627a4df46a0e",
       "version_major": 2,
       "version_minor": 0
      },
      "text/plain": [
       "  0%|          | 0/15 [00:00<?, ?it/s]"
      ]
     },
     "metadata": {},
     "output_type": "display_data"
    },
    {
     "data": {
      "application/vnd.jupyter.widget-view+json": {
       "model_id": "110bdc1982594db1bac466b07dbeb56a",
       "version_major": 2,
       "version_minor": 0
      },
      "text/plain": [
       "  0%|          | 0/2359 [00:00<?, ?it/s]"
      ]
     },
     "metadata": {},
     "output_type": "display_data"
    }
   ],
   "source": [
    "# recommender = MainRecommender(data_train_matcher)"
   ]
  },
  {
   "cell_type": "code",
   "execution_count": 16,
   "metadata": {},
   "outputs": [
    {
     "ename": "FileNotFoundError",
     "evalue": "[Errno 2] No such file or directory: '/home/alina/patriotSSD/geekbrains/gb_recommender_systems/2Level-RecSys-retail/../models/baseline_fitted_model.pkl'",
     "output_type": "error",
     "traceback": [
      "\u001b[0;31m---------------------------------------------------------------------------\u001b[0m",
      "\u001b[0;31mFileNotFoundError\u001b[0m                         Traceback (most recent call last)",
      "\u001b[0;32m/tmp/ipykernel_199282/2588488866.py\u001b[0m in \u001b[0;36m<module>\u001b[0;34m\u001b[0m\n\u001b[1;32m      1\u001b[0m \u001b[0mpath_to_save\u001b[0m \u001b[0;34m=\u001b[0m \u001b[0mos\u001b[0m\u001b[0;34m.\u001b[0m\u001b[0mpath\u001b[0m\u001b[0;34m.\u001b[0m\u001b[0mjoin\u001b[0m\u001b[0;34m(\u001b[0m\u001b[0mMODELS_PATH\u001b[0m\u001b[0;34m,\u001b[0m \u001b[0;34m'baseline_fitted_model.pkl'\u001b[0m\u001b[0;34m)\u001b[0m\u001b[0;34m\u001b[0m\u001b[0;34m\u001b[0m\u001b[0m\n\u001b[0;32m----> 2\u001b[0;31m \u001b[0mpickle\u001b[0m\u001b[0;34m.\u001b[0m\u001b[0mdump\u001b[0m\u001b[0;34m(\u001b[0m\u001b[0mrecommender\u001b[0m\u001b[0;34m,\u001b[0m \u001b[0mopen\u001b[0m\u001b[0;34m(\u001b[0m\u001b[0mpath_to_save\u001b[0m\u001b[0;34m,\u001b[0m \u001b[0;34m'wb'\u001b[0m\u001b[0;34m)\u001b[0m\u001b[0;34m)\u001b[0m\u001b[0;34m\u001b[0m\u001b[0;34m\u001b[0m\u001b[0m\n\u001b[0m",
      "\u001b[0;31mFileNotFoundError\u001b[0m: [Errno 2] No such file or directory: '/home/alina/patriotSSD/geekbrains/gb_recommender_systems/2Level-RecSys-retail/../models/baseline_fitted_model.pkl'"
     ]
    }
   ],
   "source": [
    "path_to_save = os.path.join(MODELS_PATH, 'baseline_fitted_model.pkl')\n",
    "pickle.dump(recommender, open(path_to_save, 'wb'))"
   ]
  },
  {
   "cell_type": "code",
   "execution_count": 18,
   "metadata": {},
   "outputs": [],
   "source": [
    "recommender = pickle.load(open(path_to_save, 'rb'))"
   ]
  },
  {
   "cell_type": "code",
   "execution_count": 17,
   "metadata": {},
   "outputs": [],
   "source": [
    "def get_recommendations(user, model, N):\n",
    "    if model == 'als':\n",
    "        return recommender.get_als_recommendations(user, N=N)\n",
    "    elif model == 'own':\n",
    "        return recommender.get_own_recommendations(user, N=N)\n",
    "    elif model == 'similar_items':\n",
    "        return recommender.get_similar_items_recommendation(user, N=N)\n",
    "    elif model == 'similar_users':\n",
    "        return recommender.get_similar_users_recommendation(user, N=N)"
   ]
  },
  {
   "cell_type": "code",
   "execution_count": 18,
   "metadata": {},
   "outputs": [
    {
     "ename": "",
     "evalue": "",
     "output_type": "error",
     "traceback": [
      "\u001b[1;31mThe Kernel crashed while executing code in the the current cell or a previous cell. Please review the code in the cell(s) to identify a possible cause of the failure. Click <a href='https://aka.ms/vscodeJupyterKernelCrash'>here</a> for more info. View Jupyter <a href='command:jupyter.viewOutput'>log</a> for further details."
     ]
    },
    {
     "ename": "",
     "evalue": "",
     "output_type": "error",
     "traceback": [
      "\u001b[1;31mCanceled future for execute_request message before replies were done"
     ]
    }
   ],
   "source": [
    "matcher_users = result_matcher[USER_COL]\n",
    "\n",
    "result_matcher['als'] = matcher_users.apply(lambda x: get_recommendations(x, 'als', N_PREDICT))\n",
    "result_matcher['own'] = matcher_users.apply(lambda x: get_recommendations(x, 'own', N_PREDICT))\n",
    "result_matcher['similar_items'] = matcher_users.apply(lambda x: get_recommendations(x, 'similar_items', N_PREDICT))\n",
    "result_matcher['similar_users'] = matcher_users.apply(lambda x: get_recommendations(x, 'similar_users', N_PREDICT))\n",
    "\n",
    "\n",
    "result_matcher.to_pickle(os.path.join(MODELS_PATH, 'result_matcher.pkl'))\n",
    "result_matcher.head()"
   ]
  },
  {
   "cell_type": "code",
   "execution_count": null,
   "metadata": {},
   "outputs": [],
   "source": []
  },
  {
   "cell_type": "code",
   "execution_count": 23,
   "metadata": {},
   "outputs": [
    {
     "data": {
      "text/plain": [
       "[]"
      ]
     },
     "execution_count": 23,
     "metadata": {},
     "output_type": "execute_result"
    }
   ],
   "source": [
    "recs = result_matcher.columns.tolist()[2:]\n",
    "\n",
    "def calc_recall(df_data, columns, top_k):\n",
    "    for col_name in columns:\n",
    "        yield col_name, df_data.apply(lambda row: recall_at_k(row[col_name], row[ACTUAL_COL], k=top_k), axis=1).mean()\n",
    "\n",
    "def calc_precision(df_data, columns, top_k):\n",
    "    for col_name in columns:\n",
    "        yield col_name, df_data.apply(lambda row: precision_at_k(row[col_name], row[ACTUAL_COL], k=top_k), axis=1).mean()\n",
    "\n",
    "sorted(calc_recall(result_matcher, recs, 50), key=lambda x: x[1],reverse=True)"
   ]
  },
  {
   "cell_type": "code",
   "execution_count": 44,
   "metadata": {},
   "outputs": [
    {
     "data": {
      "text/plain": [
       "[('own', 0.019497178040020526),\n",
       " ('als', 0.01385325808106719),\n",
       " ('similar_items', 0.011800923550538715),\n",
       " ('similar_users', 0.005028219599794766)]"
      ]
     },
     "execution_count": 44,
     "metadata": {},
     "output_type": "execute_result"
    }
   ],
   "source": [
    "sorted(calc_precision(result_matcher, recs, 5), key=lambda x: x[1],reverse=True)"
   ]
  },
  {
   "cell_type": "markdown",
   "metadata": {},
   "source": [
    "-------"
   ]
  },
  {
   "cell_type": "code",
   "execution_count": null,
   "metadata": {},
   "outputs": [
    {
     "ename": "",
     "evalue": "",
     "output_type": "error",
     "traceback": [
      "\u001b[1;31mThe Kernel crashed while executing code in the the current cell or a previous cell. Please review the code in the cell(s) to identify a possible cause of the failure. Click <a href='https://aka.ms/vscodeJupyterKernelCrash'>here</a> for more info. View Jupyter <a href='command:jupyter.viewOutput'>log</a> for further details."
     ]
    },
    {
     "ename": "",
     "evalue": "",
     "output_type": "error",
     "traceback": [
      "\u001b[1;31mCanceled future for execute_request message before replies were done"
     ]
    }
   ],
   "source": [
    "# take users from train ranker\n",
    "df_match_candidates = pd.DataFrame(data_train_ranker[USER_COL].unique())\n",
    "df_match_candidates.columns = [USER_COL]\n",
    "\n",
    "# get candidates using model that perfomanced the best\n",
    "df_match_candidates['candidates'] = df_match_candidates[USER_COL].apply(lambda x: recommender.get_own_recommendations(x, N=N_PREDICT))"
   ]
  },
  {
   "cell_type": "code",
   "execution_count": null,
   "metadata": {},
   "outputs": [],
   "source": [
    "\n",
    "# unstack users to items candidates\n",
    "df_items = df_match_candidates.apply(lambda x: pd.Series(x['candidates']), axis=1).stack().reset_index(level=1, drop=True)\n",
    "df_items.name = ITEM_COL\n",
    "# join \n",
    "df_match_candidates = df_match_candidates.drop('candidates', axis=1).join(df_items)\n",
    "df_match_candidates.head()"
   ]
  },
  {
   "cell_type": "code",
   "execution_count": null,
   "metadata": {},
   "outputs": [
    {
     "name": "stdout",
     "output_type": "stream",
     "text": [
      "train ranker\n",
      "shape: (21856, 12)\titems: 10118\tusers: 1949\n",
      "match_candidates\n",
      "shape: (97450, 2)\titems: 4903\tusers: 1949\n"
     ]
    }
   ],
   "source": [
    "print_stats_data(data_train_ranker, 'train ranker')\n",
    "print_stats_data(df_match_candidates, 'match_candidates')"
   ]
  },
  {
   "cell_type": "code",
   "execution_count": null,
   "metadata": {},
   "outputs": [],
   "source": [
    "df_ranker_train = data_train_ranker[[USER_COL, ITEM_COL]].copy()\n",
    "df_ranker_train['target'] = 1 # only purchases\n",
    "\n",
    "# merge candidates\n",
    "df_ranker_train = df_match_candidates.merge(df_ranker_train, on=[USER_COL, ITEM_COL], how='left')\n",
    "# drop dublicates\n",
    "df_ranker_train = df_ranker_train.drop_duplicates(subset=[USER_COL, ITEM_COL])\n",
    "\n",
    "df_ranker_train['target'].fillna(0, inplace= True)"
   ]
  },
  {
   "cell_type": "code",
   "execution_count": null,
   "metadata": {},
   "outputs": [
    {
     "data": {
      "text/html": [
       "<div>\n",
       "<style scoped>\n",
       "    .dataframe tbody tr th:only-of-type {\n",
       "        vertical-align: middle;\n",
       "    }\n",
       "\n",
       "    .dataframe tbody tr th {\n",
       "        vertical-align: top;\n",
       "    }\n",
       "\n",
       "    .dataframe thead th {\n",
       "        text-align: right;\n",
       "    }\n",
       "</style>\n",
       "<table border=\"1\" class=\"dataframe\">\n",
       "  <thead>\n",
       "    <tr style=\"text-align: right;\">\n",
       "      <th></th>\n",
       "      <th>user_id</th>\n",
       "      <th>item_id</th>\n",
       "      <th>target</th>\n",
       "    </tr>\n",
       "  </thead>\n",
       "  <tbody>\n",
       "    <tr>\n",
       "      <th>33336</th>\n",
       "      <td>1336</td>\n",
       "      <td>827683</td>\n",
       "      <td>0.0</td>\n",
       "    </tr>\n",
       "    <tr>\n",
       "      <th>51057</th>\n",
       "      <td>1264</td>\n",
       "      <td>883404</td>\n",
       "      <td>0.0</td>\n",
       "    </tr>\n",
       "    <tr>\n",
       "      <th>20916</th>\n",
       "      <td>2173</td>\n",
       "      <td>909894</td>\n",
       "      <td>0.0</td>\n",
       "    </tr>\n",
       "    <tr>\n",
       "      <th>4026</th>\n",
       "      <td>361</td>\n",
       "      <td>1070898</td>\n",
       "      <td>0.0</td>\n",
       "    </tr>\n",
       "    <tr>\n",
       "      <th>72890</th>\n",
       "      <td>1298</td>\n",
       "      <td>1098066</td>\n",
       "      <td>0.0</td>\n",
       "    </tr>\n",
       "  </tbody>\n",
       "</table>\n",
       "</div>"
      ],
      "text/plain": [
       "       user_id  item_id  target\n",
       "33336     1336   827683     0.0\n",
       "51057     1264   883404     0.0\n",
       "20916     2173   909894     0.0\n",
       "4026       361  1070898     0.0\n",
       "72890     1298  1098066     0.0"
      ]
     },
     "execution_count": 244,
     "metadata": {},
     "output_type": "execute_result"
    }
   ],
   "source": [
    "df_ranker_train.sample(5)"
   ]
  },
  {
   "cell_type": "code",
   "execution_count": null,
   "metadata": {},
   "outputs": [
    {
     "data": {
      "text/plain": [
       "0.0    93906\n",
       "1.0     1675\n",
       "Name: target, dtype: int64"
      ]
     },
     "execution_count": 245,
     "metadata": {},
     "output_type": "execute_result"
    }
   ],
   "source": [
    "df_ranker_train.target.value_counts()"
   ]
  },
  {
   "cell_type": "markdown",
   "metadata": {},
   "source": [
    "Generate new features"
   ]
  },
  {
   "cell_type": "code",
   "execution_count": null,
   "metadata": {},
   "outputs": [
    {
     "data": {
      "text/html": [
       "<div>\n",
       "<style scoped>\n",
       "    .dataframe tbody tr th:only-of-type {\n",
       "        vertical-align: middle;\n",
       "    }\n",
       "\n",
       "    .dataframe tbody tr th {\n",
       "        vertical-align: top;\n",
       "    }\n",
       "\n",
       "    .dataframe thead th {\n",
       "        text-align: right;\n",
       "    }\n",
       "</style>\n",
       "<table border=\"1\" class=\"dataframe\">\n",
       "  <thead>\n",
       "    <tr style=\"text-align: right;\">\n",
       "      <th></th>\n",
       "      <th>user_id</th>\n",
       "      <th>item_id</th>\n",
       "      <th>target</th>\n",
       "      <th>age_desc</th>\n",
       "      <th>marital_status_code</th>\n",
       "      <th>income_desc</th>\n",
       "      <th>homeowner_desc</th>\n",
       "      <th>hh_comp_desc</th>\n",
       "      <th>household_size_desc</th>\n",
       "      <th>kid_category_desc</th>\n",
       "      <th>quantity_per_month</th>\n",
       "      <th></th>\n",
       "      <th>AUTOMOTIVE</th>\n",
       "      <th>CHEF SHOPPE</th>\n",
       "      <th>CNTRL/STORE SUP</th>\n",
       "      <th>COSMETICS</th>\n",
       "      <th>COUP/STR &amp; MFG</th>\n",
       "      <th>DAIRY DELI</th>\n",
       "      <th>DELI</th>\n",
       "      <th>DRUG GM</th>\n",
       "      <th>FLORAL</th>\n",
       "      <th>FROZEN GROCERY</th>\n",
       "      <th>GARDEN CENTER</th>\n",
       "      <th>GM MERCH EXP</th>\n",
       "      <th>GRO BAKERY</th>\n",
       "      <th>GROCERY</th>\n",
       "      <th>KIOSK-GAS</th>\n",
       "      <th>MEAT</th>\n",
       "      <th>MEAT-PCKGD</th>\n",
       "      <th>MISC SALES TRAN</th>\n",
       "      <th>MISC. TRANS.</th>\n",
       "      <th>NUTRITION</th>\n",
       "      <th>PASTRY</th>\n",
       "      <th>PHARMACY SUPPLY</th>\n",
       "      <th>PHOTO</th>\n",
       "      <th>PRODUCE</th>\n",
       "      <th>RESTAURANT</th>\n",
       "      <th>SALAD BAR</th>\n",
       "      <th>SEAFOOD</th>\n",
       "      <th>SEAFOOD-PCKGD</th>\n",
       "      <th>SPIRITS</th>\n",
       "      <th>TRAVEL &amp; LEISUR</th>\n",
       "      <th>VIDEO RENTAL</th>\n",
       "      <th>total_user_sales_value</th>\n",
       "      <th>user_quantity_per_week</th>\n",
       "      <th>user_quantity_per_baskter</th>\n",
       "      <th>user_freq_per_basket</th>\n",
       "      <th>manufacturer</th>\n",
       "      <th>department</th>\n",
       "      <th>brand</th>\n",
       "      <th>commodity_desc</th>\n",
       "      <th>sub_commodity_desc</th>\n",
       "      <th>curr_size_of_product</th>\n",
       "      <th>price</th>\n",
       "      <th>mean_price_by_department</th>\n",
       "      <th>price_rel_mean_by_department</th>\n",
       "      <th>item_quantity_per_basket</th>\n",
       "      <th>total_quantity_value</th>\n",
       "      <th>total_item_sales_value</th>\n",
       "      <th>item_freq</th>\n",
       "      <th>item_freq_per_basket</th>\n",
       "      <th>sales_by_week</th>\n",
       "    </tr>\n",
       "  </thead>\n",
       "  <tbody>\n",
       "    <tr>\n",
       "      <th>0</th>\n",
       "      <td>2498</td>\n",
       "      <td>5995427</td>\n",
       "      <td>0.0</td>\n",
       "      <td>25-34</td>\n",
       "      <td>U</td>\n",
       "      <td>50-74K</td>\n",
       "      <td>Homeowner</td>\n",
       "      <td>2 Adults No Kids</td>\n",
       "      <td>2</td>\n",
       "      <td>None/Unknown</td>\n",
       "      <td>1017.0</td>\n",
       "      <td>0.0</td>\n",
       "      <td>0.0</td>\n",
       "      <td>0.0</td>\n",
       "      <td>0.0</td>\n",
       "      <td>0.0</td>\n",
       "      <td>0.0</td>\n",
       "      <td>0.0</td>\n",
       "      <td>0.0</td>\n",
       "      <td>3.2675</td>\n",
       "      <td>0.0</td>\n",
       "      <td>0.0</td>\n",
       "      <td>0.0</td>\n",
       "      <td>0.0</td>\n",
       "      <td>0.0</td>\n",
       "      <td>2.538621</td>\n",
       "      <td>0.0</td>\n",
       "      <td>3.92</td>\n",
       "      <td>6.0</td>\n",
       "      <td>28.64</td>\n",
       "      <td>0.0</td>\n",
       "      <td>2.495</td>\n",
       "      <td>1.5</td>\n",
       "      <td>0.0</td>\n",
       "      <td>0.0</td>\n",
       "      <td>2.836</td>\n",
       "      <td>0.0</td>\n",
       "      <td>0.0</td>\n",
       "      <td>0.0</td>\n",
       "      <td>0.0</td>\n",
       "      <td>0.0</td>\n",
       "      <td>0.0</td>\n",
       "      <td>0.0</td>\n",
       "      <td>224.53</td>\n",
       "      <td>152.0</td>\n",
       "      <td>0.127027</td>\n",
       "      <td>0.00073</td>\n",
       "      <td>1329</td>\n",
       "      <td>GROCERY</td>\n",
       "      <td>National</td>\n",
       "      <td>DRY BN/VEG/POTATO/RICE</td>\n",
       "      <td>RICE - INSTANT &amp; MICROWAVE</td>\n",
       "      <td>8.8 OZ</td>\n",
       "      <td>1.79</td>\n",
       "      <td>2.058508</td>\n",
       "      <td>0.869562</td>\n",
       "      <td>0.000058</td>\n",
       "      <td>6.0</td>\n",
       "      <td>9.45</td>\n",
       "      <td>6.0</td>\n",
       "      <td>0.000058</td>\n",
       "      <td>0.196875</td>\n",
       "    </tr>\n",
       "    <tr>\n",
       "      <th>1</th>\n",
       "      <td>2498</td>\n",
       "      <td>1039840</td>\n",
       "      <td>0.0</td>\n",
       "      <td>25-34</td>\n",
       "      <td>U</td>\n",
       "      <td>50-74K</td>\n",
       "      <td>Homeowner</td>\n",
       "      <td>2 Adults No Kids</td>\n",
       "      <td>2</td>\n",
       "      <td>None/Unknown</td>\n",
       "      <td>1017.0</td>\n",
       "      <td>0.0</td>\n",
       "      <td>0.0</td>\n",
       "      <td>0.0</td>\n",
       "      <td>0.0</td>\n",
       "      <td>0.0</td>\n",
       "      <td>0.0</td>\n",
       "      <td>0.0</td>\n",
       "      <td>0.0</td>\n",
       "      <td>3.2675</td>\n",
       "      <td>0.0</td>\n",
       "      <td>0.0</td>\n",
       "      <td>0.0</td>\n",
       "      <td>0.0</td>\n",
       "      <td>0.0</td>\n",
       "      <td>2.538621</td>\n",
       "      <td>0.0</td>\n",
       "      <td>3.92</td>\n",
       "      <td>6.0</td>\n",
       "      <td>28.64</td>\n",
       "      <td>0.0</td>\n",
       "      <td>2.495</td>\n",
       "      <td>1.5</td>\n",
       "      <td>0.0</td>\n",
       "      <td>0.0</td>\n",
       "      <td>2.836</td>\n",
       "      <td>0.0</td>\n",
       "      <td>0.0</td>\n",
       "      <td>0.0</td>\n",
       "      <td>0.0</td>\n",
       "      <td>0.0</td>\n",
       "      <td>0.0</td>\n",
       "      <td>0.0</td>\n",
       "      <td>224.53</td>\n",
       "      <td>152.0</td>\n",
       "      <td>0.127027</td>\n",
       "      <td>0.00073</td>\n",
       "      <td>693</td>\n",
       "      <td>DRUG GM</td>\n",
       "      <td>National</td>\n",
       "      <td>CANDY - PACKAGED</td>\n",
       "      <td>SEASONAL MISCELLANEOUS</td>\n",
       "      <td>1.2 OZ</td>\n",
       "      <td>0.50</td>\n",
       "      <td>3.284538</td>\n",
       "      <td>0.152228</td>\n",
       "      <td>0.000077</td>\n",
       "      <td>8.0</td>\n",
       "      <td>4.00</td>\n",
       "      <td>3.0</td>\n",
       "      <td>0.000029</td>\n",
       "      <td>2.000000</td>\n",
       "    </tr>\n",
       "    <tr>\n",
       "      <th>2</th>\n",
       "      <td>2498</td>\n",
       "      <td>5995483</td>\n",
       "      <td>0.0</td>\n",
       "      <td>25-34</td>\n",
       "      <td>U</td>\n",
       "      <td>50-74K</td>\n",
       "      <td>Homeowner</td>\n",
       "      <td>2 Adults No Kids</td>\n",
       "      <td>2</td>\n",
       "      <td>None/Unknown</td>\n",
       "      <td>1017.0</td>\n",
       "      <td>0.0</td>\n",
       "      <td>0.0</td>\n",
       "      <td>0.0</td>\n",
       "      <td>0.0</td>\n",
       "      <td>0.0</td>\n",
       "      <td>0.0</td>\n",
       "      <td>0.0</td>\n",
       "      <td>0.0</td>\n",
       "      <td>3.2675</td>\n",
       "      <td>0.0</td>\n",
       "      <td>0.0</td>\n",
       "      <td>0.0</td>\n",
       "      <td>0.0</td>\n",
       "      <td>0.0</td>\n",
       "      <td>2.538621</td>\n",
       "      <td>0.0</td>\n",
       "      <td>3.92</td>\n",
       "      <td>6.0</td>\n",
       "      <td>28.64</td>\n",
       "      <td>0.0</td>\n",
       "      <td>2.495</td>\n",
       "      <td>1.5</td>\n",
       "      <td>0.0</td>\n",
       "      <td>0.0</td>\n",
       "      <td>2.836</td>\n",
       "      <td>0.0</td>\n",
       "      <td>0.0</td>\n",
       "      <td>0.0</td>\n",
       "      <td>0.0</td>\n",
       "      <td>0.0</td>\n",
       "      <td>0.0</td>\n",
       "      <td>0.0</td>\n",
       "      <td>224.53</td>\n",
       "      <td>152.0</td>\n",
       "      <td>0.127027</td>\n",
       "      <td>0.00073</td>\n",
       "      <td>1329</td>\n",
       "      <td>GROCERY</td>\n",
       "      <td>National</td>\n",
       "      <td>DRY BN/VEG/POTATO/RICE</td>\n",
       "      <td>RICE - INSTANT &amp; MICROWAVE</td>\n",
       "      <td>8.8 OZ</td>\n",
       "      <td>1.79</td>\n",
       "      <td>2.058508</td>\n",
       "      <td>0.869562</td>\n",
       "      <td>0.000106</td>\n",
       "      <td>11.0</td>\n",
       "      <td>17.37</td>\n",
       "      <td>8.0</td>\n",
       "      <td>0.000077</td>\n",
       "      <td>0.482500</td>\n",
       "    </tr>\n",
       "  </tbody>\n",
       "</table>\n",
       "</div>"
      ],
      "text/plain": [
       "   user_id  item_id  target age_desc marital_status_code income_desc  \\\n",
       "0     2498  5995427     0.0    25-34                   U      50-74K   \n",
       "1     2498  1039840     0.0    25-34                   U      50-74K   \n",
       "2     2498  5995483     0.0    25-34                   U      50-74K   \n",
       "\n",
       "  homeowner_desc      hh_comp_desc household_size_desc kid_category_desc  \\\n",
       "0      Homeowner  2 Adults No Kids                   2      None/Unknown   \n",
       "1      Homeowner  2 Adults No Kids                   2      None/Unknown   \n",
       "2      Homeowner  2 Adults No Kids                   2      None/Unknown   \n",
       "\n",
       "   quantity_per_month       AUTOMOTIVE  CHEF SHOPPE  CNTRL/STORE SUP  \\\n",
       "0              1017.0  0.0         0.0          0.0              0.0   \n",
       "1              1017.0  0.0         0.0          0.0              0.0   \n",
       "2              1017.0  0.0         0.0          0.0              0.0   \n",
       "\n",
       "   COSMETICS  COUP/STR & MFG  DAIRY DELI  DELI  DRUG GM  FLORAL  \\\n",
       "0        0.0             0.0         0.0   0.0   3.2675     0.0   \n",
       "1        0.0             0.0         0.0   0.0   3.2675     0.0   \n",
       "2        0.0             0.0         0.0   0.0   3.2675     0.0   \n",
       "\n",
       "   FROZEN GROCERY  GARDEN CENTER  GM MERCH EXP  GRO BAKERY   GROCERY  \\\n",
       "0             0.0            0.0           0.0         0.0  2.538621   \n",
       "1             0.0            0.0           0.0         0.0  2.538621   \n",
       "2             0.0            0.0           0.0         0.0  2.538621   \n",
       "\n",
       "   KIOSK-GAS  MEAT  MEAT-PCKGD  MISC SALES TRAN  MISC. TRANS.  NUTRITION  \\\n",
       "0        0.0  3.92         6.0            28.64           0.0      2.495   \n",
       "1        0.0  3.92         6.0            28.64           0.0      2.495   \n",
       "2        0.0  3.92         6.0            28.64           0.0      2.495   \n",
       "\n",
       "   PASTRY  PHARMACY SUPPLY  PHOTO  PRODUCE  RESTAURANT  SALAD BAR  SEAFOOD  \\\n",
       "0     1.5              0.0    0.0    2.836         0.0        0.0      0.0   \n",
       "1     1.5              0.0    0.0    2.836         0.0        0.0      0.0   \n",
       "2     1.5              0.0    0.0    2.836         0.0        0.0      0.0   \n",
       "\n",
       "   SEAFOOD-PCKGD  SPIRITS  TRAVEL & LEISUR  VIDEO RENTAL  \\\n",
       "0            0.0      0.0              0.0           0.0   \n",
       "1            0.0      0.0              0.0           0.0   \n",
       "2            0.0      0.0              0.0           0.0   \n",
       "\n",
       "   total_user_sales_value  user_quantity_per_week  user_quantity_per_baskter  \\\n",
       "0                  224.53                   152.0                   0.127027   \n",
       "1                  224.53                   152.0                   0.127027   \n",
       "2                  224.53                   152.0                   0.127027   \n",
       "\n",
       "   user_freq_per_basket  manufacturer department     brand  \\\n",
       "0               0.00073          1329    GROCERY  National   \n",
       "1               0.00073           693    DRUG GM  National   \n",
       "2               0.00073          1329    GROCERY  National   \n",
       "\n",
       "           commodity_desc          sub_commodity_desc curr_size_of_product  \\\n",
       "0  DRY BN/VEG/POTATO/RICE  RICE - INSTANT & MICROWAVE               8.8 OZ   \n",
       "1        CANDY - PACKAGED      SEASONAL MISCELLANEOUS               1.2 OZ   \n",
       "2  DRY BN/VEG/POTATO/RICE  RICE - INSTANT & MICROWAVE               8.8 OZ   \n",
       "\n",
       "   price  mean_price_by_department  price_rel_mean_by_department  \\\n",
       "0   1.79                  2.058508                      0.869562   \n",
       "1   0.50                  3.284538                      0.152228   \n",
       "2   1.79                  2.058508                      0.869562   \n",
       "\n",
       "   item_quantity_per_basket  total_quantity_value  total_item_sales_value  \\\n",
       "0                  0.000058                   6.0                    9.45   \n",
       "1                  0.000077                   8.0                    4.00   \n",
       "2                  0.000106                  11.0                   17.37   \n",
       "\n",
       "   item_freq  item_freq_per_basket  sales_by_week  \n",
       "0        6.0              0.000058       0.196875  \n",
       "1        3.0              0.000029       2.000000  \n",
       "2        8.0              0.000077       0.482500  "
      ]
     },
     "execution_count": 247,
     "metadata": {},
     "output_type": "execute_result"
    }
   ],
   "source": [
    "dt = df_join_train_matcher.copy()\n",
    "users = user_features.copy()\n",
    "items = item_features.copy()\n",
    "\n",
    "users, items = process_user_item_features(dt, users, items)\n",
    "df_ranker_train = df_ranker_train.merge(users, how='left', on='user_id').merge(items, how='left', on='item_id')\n",
    "df_ranker_train.head(3)"
   ]
  },
  {
   "cell_type": "code",
   "execution_count": null,
   "metadata": {},
   "outputs": [],
   "source": [
    "# define categorical columns and convert them to category inplace\n",
    "object_cols = df_ranker_train.select_dtypes(include=['object']).columns.tolist()\n",
    "department_cols = [col for col in df_ranker_train.columns if col in item_features.department.unique().tolist()]\n",
    "categorical_cols = object_cols + department_cols + ['manufacturer']\n",
    "df_ranker_train[categorical_cols] = df_ranker_train[categorical_cols].astype('category')"
   ]
  },
  {
   "cell_type": "code",
   "execution_count": 249,
   "metadata": {},
   "outputs": [],
   "source": [
    "def convert_categorical_to_int(series):\n",
    "    try:\n",
    "        np.mean(series.values.tolist())\n",
    "        return series.astype('int64')\n",
    "    except (ValueError, TypeError):\n",
    "        return series\n",
    "    \n",
    "df_ranker_train.dropna(inplace=True)           \n",
    "for col in categorical_cols:\n",
    "    df_ranker_train[col] = convert_categorical_to_int(df_ranker_train[col])"
   ]
  },
  {
   "cell_type": "code",
   "execution_count": null,
   "metadata": {},
   "outputs": [],
   "source": [
    "df_ranker_train.to_pickle(path_to_save)"
   ]
  },
  {
   "cell_type": "code",
   "execution_count": 250,
   "metadata": {},
   "outputs": [
    {
     "name": "stdout",
     "output_type": "stream",
     "text": [
      "X_train (38219, 61)\n",
      "y_train (38219, 1)\n"
     ]
    }
   ],
   "source": [
    "X_train = df_ranker_train.drop('target', axis=1)\n",
    "y_train = df_ranker_train[['target']]\n",
    "print('X_train', X_train.shape)\n",
    "print('y_train', y_train.shape)"
   ]
  },
  {
   "cell_type": "code",
   "execution_count": 251,
   "metadata": {},
   "outputs": [
    {
     "data": {
      "text/plain": [
       "user_id                         0\n",
       "item_id                         0\n",
       "age_desc                        0\n",
       "marital_status_code             0\n",
       "income_desc                     0\n",
       "homeowner_desc                  0\n",
       "hh_comp_desc                    0\n",
       "household_size_desc             0\n",
       "kid_category_desc               0\n",
       "quantity_per_month              0\n",
       "                                0\n",
       "AUTOMOTIVE                      0\n",
       "CHEF SHOPPE                     0\n",
       "CNTRL/STORE SUP                 0\n",
       "COSMETICS                       0\n",
       "COUP/STR & MFG                  0\n",
       "DAIRY DELI                      0\n",
       "DELI                            0\n",
       "DRUG GM                         0\n",
       "FLORAL                          0\n",
       "FROZEN GROCERY                  0\n",
       "GARDEN CENTER                   0\n",
       "GM MERCH EXP                    0\n",
       "GRO BAKERY                      0\n",
       "GROCERY                         0\n",
       "KIOSK-GAS                       0\n",
       "MEAT                            0\n",
       "MEAT-PCKGD                      0\n",
       "MISC SALES TRAN                 0\n",
       "MISC. TRANS.                    0\n",
       "NUTRITION                       0\n",
       "PASTRY                          0\n",
       "PHARMACY SUPPLY                 0\n",
       "PHOTO                           0\n",
       "PRODUCE                         0\n",
       "RESTAURANT                      0\n",
       "SALAD BAR                       0\n",
       "SEAFOOD                         0\n",
       "SEAFOOD-PCKGD                   0\n",
       "SPIRITS                         0\n",
       "TRAVEL & LEISUR                 0\n",
       "VIDEO RENTAL                    0\n",
       "total_user_sales_value          0\n",
       "user_quantity_per_week          0\n",
       "user_quantity_per_baskter       0\n",
       "user_freq_per_basket            0\n",
       "manufacturer                    0\n",
       "department                      0\n",
       "brand                           0\n",
       "commodity_desc                  0\n",
       "sub_commodity_desc              0\n",
       "curr_size_of_product            0\n",
       "price                           0\n",
       "mean_price_by_department        0\n",
       "price_rel_mean_by_department    0\n",
       "item_quantity_per_basket        0\n",
       "total_quantity_value            0\n",
       "total_item_sales_value          0\n",
       "item_freq                       0\n",
       "item_freq_per_basket            0\n",
       "sales_by_week                   0\n",
       "dtype: int64"
      ]
     },
     "execution_count": 251,
     "metadata": {},
     "output_type": "execute_result"
    }
   ],
   "source": [
    "X_train.isna().sum()"
   ]
  },
  {
   "cell_type": "code",
   "execution_count": 252,
   "metadata": {},
   "outputs": [
    {
     "ename": "CatBoostError",
     "evalue": "catboost/libs/train_lib/dir_helper.cpp:20: Can't create train working dir: catboost_info",
     "output_type": "error",
     "traceback": [
      "\u001b[0;31m---------------------------------------------------------------------------\u001b[0m",
      "\u001b[0;31mCatBoostError\u001b[0m                             Traceback (most recent call last)",
      "\u001b[0;32m/tmp/ipykernel_15896/3752735853.py\u001b[0m in \u001b[0;36m<module>\u001b[0;34m\u001b[0m\n\u001b[1;32m     12\u001b[0m         \u001b[0;34m'l2_leaf_reg'\u001b[0m\u001b[0;34m:\u001b[0m \u001b[0;34m[\u001b[0m\u001b[0;36m1\u001b[0m\u001b[0;34m,\u001b[0m \u001b[0;36m3\u001b[0m\u001b[0;34m,\u001b[0m \u001b[0;36m5\u001b[0m\u001b[0;34m,\u001b[0m\u001b[0;34m]\u001b[0m\u001b[0;34m,\u001b[0m\u001b[0;34m\u001b[0m\u001b[0;34m\u001b[0m\u001b[0m\n\u001b[1;32m     13\u001b[0m         'iterations': [50, 100, 150]}\n\u001b[0;32m---> 14\u001b[0;31m \u001b[0mmodel\u001b[0m\u001b[0;34m.\u001b[0m\u001b[0mgrid_search\u001b[0m\u001b[0;34m(\u001b[0m\u001b[0mgrid\u001b[0m\u001b[0;34m,\u001b[0m\u001b[0mtrain_dataset\u001b[0m\u001b[0;34m)\u001b[0m\u001b[0;34m\u001b[0m\u001b[0;34m\u001b[0m\u001b[0m\n\u001b[0m\u001b[1;32m     15\u001b[0m \u001b[0mpred\u001b[0m \u001b[0;34m=\u001b[0m \u001b[0mmodel\u001b[0m\u001b[0;34m.\u001b[0m\u001b[0mpredict_proba\u001b[0m\u001b[0;34m(\u001b[0m\u001b[0mX_train\u001b[0m\u001b[0;34m)\u001b[0m\u001b[0;34m\u001b[0m\u001b[0;34m\u001b[0m\u001b[0m\n",
      "\u001b[0;32m~/anaconda3/lib/python3.8/site-packages/catboost/core.py\u001b[0m in \u001b[0;36mgrid_search\u001b[0;34m(self, param_grid, X, y, cv, partition_random_seed, calc_cv_statistics, search_by_train_test_split, refit, shuffle, stratified, train_size, verbose, plot, log_cout, log_cerr)\u001b[0m\n\u001b[1;32m   3730\u001b[0m                     \u001b[0;32mraise\u001b[0m \u001b[0mTypeError\u001b[0m\u001b[0;34m(\u001b[0m\u001b[0;34m'Parameter grid value is not iterable (key={!r}, value={!r})'\u001b[0m\u001b[0;34m.\u001b[0m\u001b[0mformat\u001b[0m\u001b[0;34m(\u001b[0m\u001b[0mkey\u001b[0m\u001b[0;34m,\u001b[0m \u001b[0mgrid\u001b[0m\u001b[0;34m[\u001b[0m\u001b[0mkey\u001b[0m\u001b[0;34m]\u001b[0m\u001b[0;34m)\u001b[0m\u001b[0;34m)\u001b[0m\u001b[0;34m\u001b[0m\u001b[0;34m\u001b[0m\u001b[0m\n\u001b[1;32m   3731\u001b[0m \u001b[0;34m\u001b[0m\u001b[0m\n\u001b[0;32m-> 3732\u001b[0;31m         return self._tune_hyperparams(\n\u001b[0m\u001b[1;32m   3733\u001b[0m             \u001b[0mparam_grid\u001b[0m\u001b[0;34m=\u001b[0m\u001b[0mparam_grid\u001b[0m\u001b[0;34m,\u001b[0m \u001b[0mX\u001b[0m\u001b[0;34m=\u001b[0m\u001b[0mX\u001b[0m\u001b[0;34m,\u001b[0m \u001b[0my\u001b[0m\u001b[0;34m=\u001b[0m\u001b[0my\u001b[0m\u001b[0;34m,\u001b[0m \u001b[0mcv\u001b[0m\u001b[0;34m=\u001b[0m\u001b[0mcv\u001b[0m\u001b[0;34m,\u001b[0m \u001b[0mn_iter\u001b[0m\u001b[0;34m=\u001b[0m\u001b[0;34m-\u001b[0m\u001b[0;36m1\u001b[0m\u001b[0;34m,\u001b[0m\u001b[0;34m\u001b[0m\u001b[0;34m\u001b[0m\u001b[0m\n\u001b[1;32m   3734\u001b[0m             \u001b[0mpartition_random_seed\u001b[0m\u001b[0;34m=\u001b[0m\u001b[0mpartition_random_seed\u001b[0m\u001b[0;34m,\u001b[0m \u001b[0mcalc_cv_statistics\u001b[0m\u001b[0;34m=\u001b[0m\u001b[0mcalc_cv_statistics\u001b[0m\u001b[0;34m,\u001b[0m\u001b[0;34m\u001b[0m\u001b[0;34m\u001b[0m\u001b[0m\n",
      "\u001b[0;32m~/anaconda3/lib/python3.8/site-packages/catboost/core.py\u001b[0m in \u001b[0;36m_tune_hyperparams\u001b[0;34m(self, param_grid, X, y, cv, n_iter, partition_random_seed, calc_cv_statistics, search_by_train_test_split, refit, shuffle, stratified, train_size, verbose, plot, log_cout, log_cerr)\u001b[0m\n\u001b[1;32m   3627\u001b[0m \u001b[0;34m\u001b[0m\u001b[0m\n\u001b[1;32m   3628\u001b[0m         \u001b[0;32mwith\u001b[0m \u001b[0mlog_fixup\u001b[0m\u001b[0;34m(\u001b[0m\u001b[0mlog_cout\u001b[0m\u001b[0;34m,\u001b[0m \u001b[0mlog_cerr\u001b[0m\u001b[0;34m)\u001b[0m\u001b[0;34m,\u001b[0m \u001b[0mplot_wrapper\u001b[0m\u001b[0;34m(\u001b[0m\u001b[0mplot\u001b[0m\u001b[0;34m,\u001b[0m \u001b[0;34m[\u001b[0m\u001b[0m_get_train_dir\u001b[0m\u001b[0;34m(\u001b[0m\u001b[0mparams\u001b[0m\u001b[0;34m)\u001b[0m\u001b[0;34m]\u001b[0m\u001b[0;34m)\u001b[0m\u001b[0;34m:\u001b[0m\u001b[0;34m\u001b[0m\u001b[0;34m\u001b[0m\u001b[0m\n\u001b[0;32m-> 3629\u001b[0;31m             cv_result = self._object._tune_hyperparams(\n\u001b[0m\u001b[1;32m   3630\u001b[0m                 \u001b[0mparam_grid\u001b[0m\u001b[0;34m,\u001b[0m \u001b[0mtrain_params\u001b[0m\u001b[0;34m[\u001b[0m\u001b[0;34m\"train_pool\"\u001b[0m\u001b[0;34m]\u001b[0m\u001b[0;34m,\u001b[0m \u001b[0mparams\u001b[0m\u001b[0;34m,\u001b[0m \u001b[0mn_iter\u001b[0m\u001b[0;34m,\u001b[0m\u001b[0;34m\u001b[0m\u001b[0;34m\u001b[0m\u001b[0m\n\u001b[1;32m   3631\u001b[0m                 \u001b[0mfold_count\u001b[0m\u001b[0;34m,\u001b[0m \u001b[0mpartition_random_seed\u001b[0m\u001b[0;34m,\u001b[0m \u001b[0mshuffle\u001b[0m\u001b[0;34m,\u001b[0m \u001b[0mstratified\u001b[0m\u001b[0;34m,\u001b[0m \u001b[0mtrain_size\u001b[0m\u001b[0;34m,\u001b[0m\u001b[0;34m\u001b[0m\u001b[0;34m\u001b[0m\u001b[0m\n",
      "\u001b[0;32m_catboost.pyx\u001b[0m in \u001b[0;36m_catboost._CatBoost._tune_hyperparams\u001b[0;34m()\u001b[0m\n",
      "\u001b[0;32m_catboost.pyx\u001b[0m in \u001b[0;36m_catboost._CatBoost._tune_hyperparams\u001b[0;34m()\u001b[0m\n",
      "\u001b[0;31mCatBoostError\u001b[0m: catboost/libs/train_lib/dir_helper.cpp:20: Can't create train working dir: catboost_info"
     ]
    }
   ],
   "source": [
    "import catboost as cb\n",
    "\n",
    "train_dataset = cb.Pool(X_train,y_train, \n",
    "                        cat_features=categorical_cols)                                                      \n",
    "# test_dataset = cb.Pool(X_val,y_val,           \n",
    "                    #    cat_features=categorical_cols)\n",
    "                    \n",
    "model = cb.CatBoostClassifier(loss_function='Logloss',  \n",
    "                              eval_metric='AUC')\n",
    "grid = {'learning_rate': [0.03, 0.1],\n",
    "        'depth': [4, 6, 10],\n",
    "        'l2_leaf_reg': [1, 3, 5,],\n",
    "        'iterations': [50, 100, 150]}\n",
    "model.grid_search(grid,train_dataset)\n",
    "\n",
    "pickle.dump(model, path_to_save)\n",
    "pred = model.predict_proba(X_train)"
   ]
  },
  {
   "cell_type": "code",
   "execution_count": null,
   "metadata": {},
   "outputs": [],
   "source": [
    "from sklearn.metrics import roc_auc_score, roc_curve\n",
    "def plot_roc_auc_score(y_test, y_pred):\n",
    "    auc = roc_auc_score(y_test, y_pred)\n",
    "\n",
    "    false_positive_rate, true_positive_rate, thresolds = roc_curve(y_test, y_pred)\n",
    "\n",
    "    plt.figure(figsize=(10, 8), dpi=100)\n",
    "    plt.axis('scaled')\n",
    "    plt.xlim([0, 1])\n",
    "    plt.ylim([0, 1])\n",
    "    plt.title(\"AUC & ROC Curve\")\n",
    "    plt.plot(false_positive_rate, true_positive_rate, 'g')\n",
    "    plt.fill_between(false_positive_rate, true_positive_rate, facecolor='lightgreen', alpha=0.7)\n",
    "    plt.text(0.95, 0.05, 'AUC = %0.4f' % auc, ha='right', fontsize=12, weight='bold', color='blue')\n",
    "    plt.xlabel(\"False Positive Rate\")\n",
    "    plt.ylabel(\"True Positive Rate\")\n",
    "    plt.show()"
   ]
  },
  {
   "cell_type": "code",
   "execution_count": 88,
   "metadata": {},
   "outputs": [
    {
     "data": {
      "text/plain": [
       "(1, 1, 18)"
      ]
     },
     "execution_count": 88,
     "metadata": {},
     "output_type": "execute_result"
    }
   ],
   "source": [
    "from sklearn.metrics import roc_curve\n",
    "def calc_roc_auc_score():\n",
    "    pass\n",
    "model_cols = result_matcher.columns[2:]\n",
    "k=[1, 2, 5, 10]\n",
    "\n",
    "recs = result_matcher[model_cols[0]][0][:k[1]]\n",
    "actual = result_matcher[ACTUAL_COL][0]\n",
    "tp_fp = np.array([1 if rec in actual else 0 for rec in recs])\n",
    "tp = tp_fp[tp_fp == 1].size\n",
    "fp = tp_fp[tp_fp == 0].size\n",
    "fn_mask = np.array([1 if purchase in recs else 0 for purchase in actual])\n",
    "fn = fn_mask[fn_mask==0].size\n",
    "tp, fp, fn\n"
   ]
  }
 ],
 "metadata": {
  "kernelspec": {
   "display_name": "Python 3.8.5 ('.recs_venv': venv)",
   "language": "python",
   "name": "python3"
  },
  "language_info": {
   "codemirror_mode": {
    "name": "ipython",
    "version": 3
   },
   "file_extension": ".py",
   "mimetype": "text/x-python",
   "name": "python",
   "nbconvert_exporter": "python",
   "pygments_lexer": "ipython3",
   "version": "3.8.5"
  },
  "orig_nbformat": 4,
  "vscode": {
   "interpreter": {
    "hash": "229e616cd540151198454ef2c2afb005eaf7ec38241a92f35db8db79eafa6405"
   }
  }
 },
 "nbformat": 4,
 "nbformat_minor": 2
}
